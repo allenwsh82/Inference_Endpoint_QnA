{
 "cells": [
  {
   "cell_type": "code",
   "execution_count": 5,
   "id": "fd7e295a",
   "metadata": {},
   "outputs": [],
   "source": [
    "import requests"
   ]
  },
  {
   "cell_type": "code",
   "execution_count": 6,
   "id": "63f4b67c",
   "metadata": {},
   "outputs": [
    {
     "name": "stdout",
     "output_type": "stream",
     "text": [
      "### USER:\n",
      "Singapore có phải là thành phố tốt để sống?\n",
      "\n",
      "### RESPONSE:\n",
      "Singapore là một thành phố tuyệt vời để sống. Thành phố này có một nền kinh tế phát triển mạnh mẽ, một hệ thống giáo dục chất lượng cao, một môi trường trong sạch và an toàn, và một hệ thống chăm sóc sức khỏe tuyệt vời.\n",
      "(8.03 tokens/s, 73 tokens)\n"
     ]
    }
   ],
   "source": [
    "user_message = \"Singapore có phải là thành phố tốt để sống?\"\n",
    "\n",
    "system_prompt = \"you are an honest assistant\"\n",
    "chat_history =[]\n",
    "max_new_tokens = 500\n",
    "\n",
    "s = requests.Session()\n",
    "output = s.get(\n",
    "    \"http://localhost:7992/query-stream/\",\n",
    "    stream=False,\n",
    "    json={\n",
    "        \"user_query\": user_message,\n",
    "        \"prompt_text\": system_prompt,\n",
    "        \"history\": chat_history,\n",
    "        \"max_new_tokens\": max_new_tokens,\n",
    "         }\n",
    ")\n",
    "\n",
    "print(output.json())"
   ]
  },
  {
   "cell_type": "code",
   "execution_count": 7,
   "id": "bad4ec4c",
   "metadata": {},
   "outputs": [
    {
     "name": "stdout",
     "output_type": "stream",
     "text": [
      "### USER:\n",
      "What food do you recommend while visiting to Malaysia?\n",
      "\n",
      "### RESPONSE:\n",
      "I would recommend trying the local food in Malaysia. Some of the most popular dishes include the Nasi Lemak, Char Koay Teow, and the Curry Laksa.\n",
      "(11.77 tokens/s, 55 tokens)\n"
     ]
    }
   ],
   "source": [
    "user_message = \"What food do you recommend while visiting to Malaysia?\"\n",
    "\n",
    "system_prompt = \"you are an honest assistant\"\n",
    "chat_history =[]\n",
    "max_new_tokens = 500\n",
    "\n",
    "s = requests.Session()\n",
    "output = s.get(\n",
    "    \"http://localhost:7992/query-stream/\",\n",
    "    stream=False,\n",
    "    json={\n",
    "        \"user_query\": user_message,\n",
    "        \"prompt_text\": system_prompt,\n",
    "        \"history\": chat_history,\n",
    "        \"max_new_tokens\": max_new_tokens,\n",
    "         }\n",
    ")\n",
    "\n",
    "print(output.json())"
   ]
  },
  {
   "cell_type": "code",
   "execution_count": 8,
   "id": "b4dfdb42",
   "metadata": {},
   "outputs": [
    {
     "name": "stdout",
     "output_type": "stream",
     "text": [
      "### USER:\n",
      "ทำอย่างไรให้ร่างกายแข็งแรง?\n",
      "\n",
      "### RESPONSE:\n",
      "1. ออกกำลังกายอย่างสม่ำเสมอ\n",
      "2. รับประทานอาหารที่มีประโยชน์\n",
      "3. พักผ่อนให้เพียงพอ\n",
      "(13.49 tokens/s, 36 tokens)\n"
     ]
    }
   ],
   "source": [
    "user_message = \"ทำอย่างไรให้ร่างกายแข็งแรง?\"\n",
    "\n",
    "system_prompt = \"you are an honest assistant\"\n",
    "chat_history =[]\n",
    "max_new_tokens = 500\n",
    "\n",
    "s = requests.Session()\n",
    "output = s.get(\n",
    "    \"http://localhost:7992/query-stream/\",\n",
    "    stream=False,\n",
    "    json={\n",
    "        \"user_query\": user_message,\n",
    "        \"prompt_text\": system_prompt,\n",
    "        \"history\": chat_history,\n",
    "        \"max_new_tokens\": max_new_tokens,\n",
    "         }\n",
    ")\n",
    "\n",
    "print(output.json())"
   ]
  },
  {
   "cell_type": "code",
   "execution_count": 9,
   "id": "d1e419ef",
   "metadata": {},
   "outputs": [
    {
     "name": "stdout",
     "output_type": "stream",
     "text": [
      "### USER:\n",
      "Translate the following text to Vietnamese.\n",
      "#Indonesia lies along the equator, and its climate tends to be relatively even year-round.\n",
      "#\n",
      "\n",
      "### RESPONSE:\n",
      "Indonesia nằm dọc theo đường xích đạo, và khí hậu của nước này có xu hướng ổn định quanh năm.\n",
      "(18.36 tokens/s, 62 tokens)\n"
     ]
    }
   ],
   "source": [
    "user_message = \"\"\"Translate the following text to Vietnamese.\n",
    "#Indonesia lies along the equator, and its climate tends to be relatively even year-round.\n",
    "#\"\"\"\n",
    "\n",
    "system_prompt = \"you are an honest assistant\"\n",
    "chat_history =[]\n",
    "max_new_tokens = 500\n",
    "\n",
    "s = requests.Session()\n",
    "output = s.get(\n",
    "    \"http://localhost:7992/query-stream/\",\n",
    "    stream=False,\n",
    "    json={\n",
    "        \"user_query\": user_message,\n",
    "        \"prompt_text\": system_prompt,\n",
    "        \"history\": chat_history,\n",
    "        \"max_new_tokens\": max_new_tokens,\n",
    "         }\n",
    ")\n",
    "\n",
    "print(output.json())"
   ]
  },
  {
   "cell_type": "code",
   "execution_count": 10,
   "id": "85bc09ed",
   "metadata": {},
   "outputs": [
    {
     "name": "stdout",
     "output_type": "stream",
     "text": [
      "### USER:\n",
      "Apa sentimen dari kalimat berikut ini?\n",
      "Kalimat: Makanan ini sangat sedap.\n",
      "Jawaban: \n",
      "\n",
      "### RESPONSE:\n",
      "Positif\n",
      "(88.30 tokens/s, 36 tokens)\n"
     ]
    }
   ],
   "source": [
    "user_message = \"\"\"Apa sentimen dari kalimat berikut ini?\n",
    "Kalimat: Makanan ini sangat sedap.\n",
    "Jawaban: \"\"\"\n",
    "\n",
    "s = requests.Session()\n",
    "output = s.get(\n",
    "    \"http://localhost:7992/query-stream/\",\n",
    "    stream=False,\n",
    "    json={\n",
    "        \"user_query\": user_message,\n",
    "        \"prompt_text\": system_prompt,\n",
    "        \"history\": chat_history,\n",
    "        \"max_new_tokens\": max_new_tokens,\n",
    "         }\n",
    ")\n",
    "\n",
    "print(output.json())"
   ]
  },
  {
   "cell_type": "code",
   "execution_count": 11,
   "id": "983fdd43",
   "metadata": {},
   "outputs": [
    {
     "name": "stdout",
     "output_type": "stream",
     "text": [
      "### USER:\n",
      "Apa sentimen dari kalimat berikut ini?\n",
      "Kalimat: நீச்சல் குளத்தில் குழந்தைகளுக்கான நீச்சல் பகுதி இல்லை, குளத்தின் தண்ணீர் அவ்வளவு தெளிவாக இல்லை. உணவக மெனுவிலும் சில மாற்றங்கள் தேவை: பெங்காலி/நார்த் இந்தியன்/இந்தோ-சீன உணவுகள் கிடைத்தாலும், போதுமான ஆப்சன்கள் இல்லாததால் எந்தவொரு உணவையும் தேர்ந்தெடுக்க முடியவில்லை.\n",
      "Jawaban: \n",
      "\n",
      "### RESPONSE:\n",
      "Negatif\n",
      "(125.82 tokens/s, 95 tokens)\n"
     ]
    }
   ],
   "source": [
    "user_message = \"\"\"Apa sentimen dari kalimat berikut ini?\n",
    "Kalimat: நீச்சல் குளத்தில் குழந்தைகளுக்கான நீச்சல் பகுதி இல்லை, குளத்தின் தண்ணீர் அவ்வளவு தெளிவாக இல்லை. உணவக மெனுவிலும் சில மாற்றங்கள் தேவை: பெங்காலி/நார்த் இந்தியன்/இந்தோ-சீன உணவுகள் கிடைத்தாலும், போதுமான ஆப்சன்கள் இல்லாததால் எந்தவொரு உணவையும் தேர்ந்தெடுக்க முடியவில்லை.\n",
    "Jawaban: \"\"\"\n",
    "\n",
    "s = requests.Session()\n",
    "output = s.get(\n",
    "    \"http://localhost:7992/query-stream/\",\n",
    "    stream=False,\n",
    "    json={\n",
    "        \"user_query\": user_message,\n",
    "        \"prompt_text\": system_prompt,\n",
    "        \"history\": chat_history,\n",
    "        \"max_new_tokens\": max_new_tokens,\n",
    "         }\n",
    ")\n",
    "\n",
    "print(output.json())"
   ]
  },
  {
   "cell_type": "code",
   "execution_count": 12,
   "id": "5a9b43a3",
   "metadata": {},
   "outputs": [
    {
     "name": "stdout",
     "output_type": "stream",
     "text": [
      "This QnA Inference with Sealion-7B-Instruct is running on a 4th Gen Intel Xeon 8480\n"
     ]
    }
   ],
   "source": [
    "print (\"This QnA Inference with Sealion-7B-Instruct is running on a 4th Gen Intel Xeon 8480\")"
   ]
  },
  {
   "cell_type": "code",
   "execution_count": null,
   "id": "ef28cbeb",
   "metadata": {},
   "outputs": [],
   "source": []
  },
  {
   "cell_type": "code",
   "execution_count": null,
   "id": "5b3cff8c-5d75-4bfa-914b-e3b7d138328d",
   "metadata": {},
   "outputs": [],
   "source": []
  }
 ],
 "metadata": {
  "kernelspec": {
   "display_name": "Python 3 (ipykernel)",
   "language": "python",
   "name": "python3"
  },
  "language_info": {
   "codemirror_mode": {
    "name": "ipython",
    "version": 3
   },
   "file_extension": ".py",
   "mimetype": "text/x-python",
   "name": "python",
   "nbconvert_exporter": "python",
   "pygments_lexer": "ipython3",
   "version": "3.10.12"
  }
 },
 "nbformat": 4,
 "nbformat_minor": 5
}
